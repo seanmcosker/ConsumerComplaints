{
 "cells": [
  {
   "cell_type": "code",
   "execution_count": 15,
   "id": "20aa97f9",
   "metadata": {},
   "outputs": [],
   "source": [
    "import pandas as pd\n",
    "import numpy as np\n",
    "import matplotlib.pyplot as plt\n",
    "%matplotlib inline\n"
   ]
  },
  {
   "cell_type": "code",
   "execution_count": 16,
   "id": "0781cf88",
   "metadata": {},
   "outputs": [
    {
     "name": "stderr",
     "output_type": "stream",
     "text": [
      "/var/folders/yj/znfgbkgj4f1gvy__jfl3rw6c0000gn/T/ipykernel_50582/1461720888.py:1: DtypeWarning: Columns (5,11) have mixed types. Specify dtype option on import or set low_memory=False.\n",
      "  df = pd.read_csv(\"consumer_complaints.csv\")\n"
     ]
    },
    {
     "data": {
      "text/html": [
       "<div>\n",
       "<style scoped>\n",
       "    .dataframe tbody tr th:only-of-type {\n",
       "        vertical-align: middle;\n",
       "    }\n",
       "\n",
       "    .dataframe tbody tr th {\n",
       "        vertical-align: top;\n",
       "    }\n",
       "\n",
       "    .dataframe thead th {\n",
       "        text-align: right;\n",
       "    }\n",
       "</style>\n",
       "<table border=\"1\" class=\"dataframe\">\n",
       "  <thead>\n",
       "    <tr style=\"text-align: right;\">\n",
       "      <th></th>\n",
       "      <th>date_received</th>\n",
       "      <th>product</th>\n",
       "      <th>sub_product</th>\n",
       "      <th>issue</th>\n",
       "      <th>sub_issue</th>\n",
       "      <th>consumer_complaint_narrative</th>\n",
       "      <th>company_public_response</th>\n",
       "      <th>company</th>\n",
       "      <th>state</th>\n",
       "      <th>zipcode</th>\n",
       "      <th>tags</th>\n",
       "      <th>consumer_consent_provided</th>\n",
       "      <th>submitted_via</th>\n",
       "      <th>date_sent_to_company</th>\n",
       "      <th>company_response_to_consumer</th>\n",
       "      <th>timely_response</th>\n",
       "      <th>consumer_disputed?</th>\n",
       "      <th>complaint_id</th>\n",
       "    </tr>\n",
       "  </thead>\n",
       "  <tbody>\n",
       "    <tr>\n",
       "      <th>0</th>\n",
       "      <td>08/30/2013</td>\n",
       "      <td>Mortgage</td>\n",
       "      <td>Other mortgage</td>\n",
       "      <td>Loan modification,collection,foreclosure</td>\n",
       "      <td>NaN</td>\n",
       "      <td>NaN</td>\n",
       "      <td>NaN</td>\n",
       "      <td>U.S. Bancorp</td>\n",
       "      <td>CA</td>\n",
       "      <td>95993</td>\n",
       "      <td>NaN</td>\n",
       "      <td>NaN</td>\n",
       "      <td>Referral</td>\n",
       "      <td>09/03/2013</td>\n",
       "      <td>Closed with explanation</td>\n",
       "      <td>Yes</td>\n",
       "      <td>Yes</td>\n",
       "      <td>511074</td>\n",
       "    </tr>\n",
       "    <tr>\n",
       "      <th>1</th>\n",
       "      <td>08/30/2013</td>\n",
       "      <td>Mortgage</td>\n",
       "      <td>Other mortgage</td>\n",
       "      <td>Loan servicing, payments, escrow account</td>\n",
       "      <td>NaN</td>\n",
       "      <td>NaN</td>\n",
       "      <td>NaN</td>\n",
       "      <td>Wells Fargo &amp; Company</td>\n",
       "      <td>CA</td>\n",
       "      <td>91104</td>\n",
       "      <td>NaN</td>\n",
       "      <td>NaN</td>\n",
       "      <td>Referral</td>\n",
       "      <td>09/03/2013</td>\n",
       "      <td>Closed with explanation</td>\n",
       "      <td>Yes</td>\n",
       "      <td>Yes</td>\n",
       "      <td>511080</td>\n",
       "    </tr>\n",
       "    <tr>\n",
       "      <th>2</th>\n",
       "      <td>08/30/2013</td>\n",
       "      <td>Credit reporting</td>\n",
       "      <td>NaN</td>\n",
       "      <td>Incorrect information on credit report</td>\n",
       "      <td>Account status</td>\n",
       "      <td>NaN</td>\n",
       "      <td>NaN</td>\n",
       "      <td>Wells Fargo &amp; Company</td>\n",
       "      <td>NY</td>\n",
       "      <td>11764</td>\n",
       "      <td>NaN</td>\n",
       "      <td>NaN</td>\n",
       "      <td>Postal mail</td>\n",
       "      <td>09/18/2013</td>\n",
       "      <td>Closed with explanation</td>\n",
       "      <td>Yes</td>\n",
       "      <td>No</td>\n",
       "      <td>510473</td>\n",
       "    </tr>\n",
       "    <tr>\n",
       "      <th>3</th>\n",
       "      <td>08/30/2013</td>\n",
       "      <td>Student loan</td>\n",
       "      <td>Non-federal student loan</td>\n",
       "      <td>Repaying your loan</td>\n",
       "      <td>Repaying your loan</td>\n",
       "      <td>NaN</td>\n",
       "      <td>NaN</td>\n",
       "      <td>Navient Solutions, Inc.</td>\n",
       "      <td>MD</td>\n",
       "      <td>21402</td>\n",
       "      <td>NaN</td>\n",
       "      <td>NaN</td>\n",
       "      <td>Email</td>\n",
       "      <td>08/30/2013</td>\n",
       "      <td>Closed with explanation</td>\n",
       "      <td>Yes</td>\n",
       "      <td>Yes</td>\n",
       "      <td>510326</td>\n",
       "    </tr>\n",
       "    <tr>\n",
       "      <th>4</th>\n",
       "      <td>08/30/2013</td>\n",
       "      <td>Debt collection</td>\n",
       "      <td>Credit card</td>\n",
       "      <td>False statements or representation</td>\n",
       "      <td>Attempted to collect wrong amount</td>\n",
       "      <td>NaN</td>\n",
       "      <td>NaN</td>\n",
       "      <td>Resurgent Capital Services L.P.</td>\n",
       "      <td>GA</td>\n",
       "      <td>30106</td>\n",
       "      <td>NaN</td>\n",
       "      <td>NaN</td>\n",
       "      <td>Web</td>\n",
       "      <td>08/30/2013</td>\n",
       "      <td>Closed with explanation</td>\n",
       "      <td>Yes</td>\n",
       "      <td>Yes</td>\n",
       "      <td>511067</td>\n",
       "    </tr>\n",
       "  </tbody>\n",
       "</table>\n",
       "</div>"
      ],
      "text/plain": [
       "  date_received           product               sub_product  \\\n",
       "0    08/30/2013          Mortgage            Other mortgage   \n",
       "1    08/30/2013          Mortgage            Other mortgage   \n",
       "2    08/30/2013  Credit reporting                       NaN   \n",
       "3    08/30/2013      Student loan  Non-federal student loan   \n",
       "4    08/30/2013   Debt collection               Credit card   \n",
       "\n",
       "                                      issue  \\\n",
       "0  Loan modification,collection,foreclosure   \n",
       "1  Loan servicing, payments, escrow account   \n",
       "2    Incorrect information on credit report   \n",
       "3                        Repaying your loan   \n",
       "4        False statements or representation   \n",
       "\n",
       "                           sub_issue consumer_complaint_narrative  \\\n",
       "0                                NaN                          NaN   \n",
       "1                                NaN                          NaN   \n",
       "2                     Account status                          NaN   \n",
       "3                 Repaying your loan                          NaN   \n",
       "4  Attempted to collect wrong amount                          NaN   \n",
       "\n",
       "  company_public_response                          company state zipcode tags  \\\n",
       "0                     NaN                     U.S. Bancorp    CA   95993  NaN   \n",
       "1                     NaN            Wells Fargo & Company    CA   91104  NaN   \n",
       "2                     NaN            Wells Fargo & Company    NY   11764  NaN   \n",
       "3                     NaN          Navient Solutions, Inc.    MD   21402  NaN   \n",
       "4                     NaN  Resurgent Capital Services L.P.    GA   30106  NaN   \n",
       "\n",
       "  consumer_consent_provided submitted_via date_sent_to_company  \\\n",
       "0                       NaN      Referral           09/03/2013   \n",
       "1                       NaN      Referral           09/03/2013   \n",
       "2                       NaN   Postal mail           09/18/2013   \n",
       "3                       NaN         Email           08/30/2013   \n",
       "4                       NaN           Web           08/30/2013   \n",
       "\n",
       "  company_response_to_consumer timely_response consumer_disputed?  \\\n",
       "0      Closed with explanation             Yes                Yes   \n",
       "1      Closed with explanation             Yes                Yes   \n",
       "2      Closed with explanation             Yes                 No   \n",
       "3      Closed with explanation             Yes                Yes   \n",
       "4      Closed with explanation             Yes                Yes   \n",
       "\n",
       "   complaint_id  \n",
       "0        511074  \n",
       "1        511080  \n",
       "2        510473  \n",
       "3        510326  \n",
       "4        511067  "
      ]
     },
     "execution_count": 16,
     "metadata": {},
     "output_type": "execute_result"
    }
   ],
   "source": [
    "df = pd.read_csv(\"consumer_complaints.csv\")\n",
    "df.head()"
   ]
  },
  {
   "cell_type": "markdown",
   "id": "ca2508b2",
   "metadata": {},
   "source": [
    "# Data Cleaning"
   ]
  },
  {
   "cell_type": "code",
   "execution_count": 17,
   "id": "8f41f39e",
   "metadata": {},
   "outputs": [
    {
     "name": "stdout",
     "output_type": "stream",
     "text": [
      "Observations:  555957\n"
     ]
    }
   ],
   "source": [
    "#renaming columns for ease of access\n",
    "df.rename(columns={\"date_recieved\":\"date\", \"consumer_complaint_narrative\":\"narrative\", \"company_public_response\":\"public_response\",\"consumer_consent_provided\":\"consent\", \"company_response_to_consumer\":\"response_to_consumer\"}, inplace=True)\n",
    "\n",
    "#check that renaming worked\n",
    "df.head()\n",
    "print(\"Observations: \", len(df))"
   ]
  },
  {
   "cell_type": "code",
   "execution_count": 18,
   "id": "c52a33bf",
   "metadata": {},
   "outputs": [
    {
     "name": "stdout",
     "output_type": "stream",
     "text": [
      "555957\n",
      "555957\n"
     ]
    }
   ],
   "source": [
    "# remove totally empty rows\n",
    "print(len(df))\n",
    "df=df.dropna(thresh=5)\n",
    "print(len(df))"
   ]
  },
  {
   "cell_type": "markdown",
   "id": "48b35944",
   "metadata": {},
   "source": [
    "Let's look at some of these complaint narratives. Maybe sentiment analysis at some point?"
   ]
  },
  {
   "cell_type": "code",
   "execution_count": 34,
   "id": "48343b46",
   "metadata": {},
   "outputs": [
    {
     "data": {
      "text/plain": [
       "This company continues to report on my credit report after I sent them a letter telling them that this account was not mine and I have no idea what it is or who it belongs to! \\n\\nI asked for proof of a signed contract, I asked for a license to collect in my state, I asked for copies of all information referenced for this debt and still to date, I have not received anything but harassment from this company! \\n\\nTHIS IS NOT MY DEBT! \\n\\nI WANT THIS ACCOUNT REMOVED FROM MY CREDIT REPORT AND THIS COMPANY TO STOP CONTACTING ME IMMEDIATELY! \\n                                                                                                                                                                                                                                                                                                                                                                                                                                                                                                                                                                                                                                                                                                                                                                                                                                                                                                                                                                                                                                                                                                                                                                                                                                                                                                                                                                                                                                                                                                                                                                                                                                                                                                                                                                                                                                                                                                                                                                                                                                                                                                                                                                                                                                                                                                                                                                                                                                                                                                                                                                                                                                                                                                                                                                                                                                                                                                                                                                                                                                                                                                                                                                                                                                                                                                                                                                                                                                                                                                                                            37\n",
       "I have been a victim of Identity Theft. I have been trying to work with the Credit Reporting Agency but they are refusing to honor my valid identity theft case thus these incorrect/fraudulent items are still on my credit report and they must be removed immediately but they are do not belong to me. I have provided all of the proof to show that I was a victim of Identity Theft and that to the best of my knowledge these fraudulent accounts do not belong to me. Please take immediate action on my behalf so I can have these items removed, deleted and permanently blocked from my credit report, so that I can get back on track to a normal life. \\n\\nRegards \\n                                                                                                                                                                                                                                                                                                                                                                                                                                                                                                                                                                                                                                                                                                                                                                                                                                                                                                                                                                                                                                                                                                                                                                                                                                                                                                                                                                                                                                                                                                                                                                                                                                                                                                                                                                                                                                                                                                                                                                                                                                                                                                                                                                                                                                                                                                                                                                                                                                                                                                                                                                                                                                                                                                                                                                                                                                                                                                                                                                                                                                                                                                                                                                                                                                                                                                                                                                                                                          27\n",
       "I have sent several requests to Experian requesting an investigation of my accounts. It has been months and I still have not received a response to my concerns. The only thing I have received is some automated rejection letter stating that they wo n't do anything to help me ( please see attached ). \\nThis has to be a violation of my rights. I feel like I 've already wasted so much time just trying to get Experian to look at the errors on my credit report and I 'm so frustrated that Experian is intentionally not responding to my inquiries. I need to have this issue resolved immediately. There are many things I need to do with my life and they all involve my credit. But I am not able to move forward all because of this credit bureau! \\n                                                                                                                                                                                                                                                                                                                                                                                                                                                                                                                                                                                                                                                                                                                                                                                                                                                                                                                                                                                                                                                                                                                                                                                                                                                                                                                                                                                                                                                                                                                                                                                                                                                                                                                                                                                                                                                                                                                                                                                                                                                                                                                                                                                                                                                                                                                                                                                                                                                                                                                                                                                                                                                                                                                                                                                                                                                                                                                                                                                                                                                                                                                                                                                                                                                                                                                                    26\n",
       "This company continues to report on my credit report after I sent them a letter telling them that this account was not mine and I have no idea what it is or who it belongs to! \\n\\nI asked for proof of a signed contract, I asked for a license to collect in my state, I asked for copies of all information referenced for this debt and still to date, I have not received anything but harassment from this company! \\n\\nTHIS IS NOT MY DEBT! \\n                                                                                                                                                                                                                                                                                                                                                                                                                                                                                                                                                                                                                                                                                                                                                                                                                                                                                                                                                                                                                                                                                                                                                                                                                                                                                                                                                                                                                                                                                                                                                                                                                                                                                                                                                                                                                                                                                                                                                                                                                                                                                                                                                                                                                                                                                                                                                                                                                                                                                                                                                                                                                                                                                                                                                                                                                                                                                                                                                                                                                                                                                                                                                                                                                                                                                                                                                                                                                                                                                                                                                                                                                                                      24\n",
       "I am filing this complaint because I think what Experian is doing to me is wrong, unethical and may be against the law. A letter was mailed to Experian on or around [ XXXX/XXXX/15 ]. \\nI clearly stated my concerns to them regarding inaccurate, questionable or unverifiable information listed on my credit report. I also provided a clear copy of my ID, proof of my social security number and a proof of my current mailing address. \\nOn [ XXXX/XXXX/15 ] I received a notice from Experian stating the following : '' We received a suspicious request in the mail regarding your personal credit report and determined that it was not sent by you. Suspicious requests are reviewed by Experian security personnel who work regularly with law enforcement officials and regulatory agencies to identify fraudulent and deceptive correspondence purporting to originate from consumers. \\nIn an effort to safeguard your personal credit information from fraud, we will not be initiating any disputes based on the suspicious correspondence. \\nExperian will apply this same policy to any future suspicious requests that we receive regarding your personal credit information, but we will not send additional notices to you of suspicious correspondence. \\nIf you believe that information in your personal credit report is inaccurate or incomplete, please visit our website at experian.com/validate dispute or call us at XXXX ( XXXX ) XXXX to speak directly to an Experian consumer assistance representative. \" However, an Experian confirmation number was not even provided on this notice. I can not imagine what could have possibly been \" suspicious '' about my correspondence to Experian. I should not have to spend endless hours on phone calling the credit bureau back and forth attempting to resolve the issues on my credit report! I am filing this complaint because Experian will not respond to any letters that I am sending in. I 'm sure this could be a violation of my rights and Experian should not be deliberately disregarding my concerns! \\n                                                                                                                                                                                                                                                                                                                                                                                                                                                                                                                                                                                                                                                                                                                                                                                                                                                                                                                                                                                                                                                                                                                                                                                                                                                                                                                                                                                                                                                                                                                                                                                                                                                                                                                                                                                                                                                                                                                                                                                                14\n",
       "                                                                                                                                                                                                                                                                                                                                                                                                                                                                                                                                                                                                                                                                                                                                                                                                                                                                                                                                                                                                                                                                                                                                                                                                                                                                                                                                                                                                                                                                                                                                                                                                                                                                                                                                                                                                                                                                                                                                                                                                                                                                                                                                                                                                                                                                                                                                                                                                                                                                                                                                                                                                                                                                                                                                                                                                                                                                                                                                                                                                                                                                                                                                                                                                                                                                                                                                                                                                                                                                                                                                                                                                                                                                                                                                                                                                                                                                                                                                                                                                                                                                                                            ..\n",
       "XXXX collection was removed after I sent Their collection dept ; XXXX ; XXXX XXXX XXXX XXXX XXXX XXXX, XXXX XXXX, XXXX XXXX, ACCOUNT NO. ; XXXX {$1900.00} police report & District Court of XXXX for XXXX XXXX XXXX case # : XXXX XXXX XXXX XXXX ( XXXX ) XXXX XXXX XXXX XXXX SENT NOTARIZED LETTER SIGNED BY XXXX XXXX XXXX ( XXXX ) XXXX RESIDED AT XXXX XXXX XXXX XXXX XXXX XXXX XXXX XXXX XXXX. \\nCOMMITTED FRAUD USED MY INFORMATION AND OBTAINED XXXX PHONES FROM XXXX WHICH CREATED THIS COLLECTION ON MY CREDIT REPORTS. IT WAS REMOVED AND NOW IS BACK ON. I believe XXXX HAS IT OUT FOR ME. WHY ELSE WOULD THEY KEEP TRYING TO RUIN MY CREDIT. WHEN I FIRST CONTACTED THEM AND ASKED FOR THEIR HELP. THEIR COLLECTION AGENT TOLD ME \" I SUGGEST YOU KEEP THESE ACCOUNTS OPEN TO AVOID EARLY TERMINATION FEES ''. I TOLD THEM ARE YOU SERIOUS YOU WANT ME TO PAY ON THESES FRAUDULENT ACCOUNTS UNTIL THEIR CONTRACT EXPIRES. THEIR ANSWER WAS \" YES '. THIS IS VERY UPSETTING SINCE I AM IN A HOME BUYERS PROGRAM \" XXXX ''. THIS RE POSTING OF THE FRAUDULENT COLLECTION IS PREVENTING ME FROM GETTING A HOUSE. FOR MY GRANDDAUGHTERS AND I, A DREAM I HAVE HAD FOR A LONG TIME for ME AND MY GRANDDAUGHTERS. I NOW HAVE CUSTODY OF AND WE ARE LIVING IN A XXXX BEDROOM APARTMENT BECAUSE OF THIS AS WELL. IF YOU CAN HELP ME GET THIS PERMANENTLY REMOVED FROM MY CREDIT REPORTS ONCE AGAIN I WILL BE ABLE TO PARTICIPATE IN THE \" XXXX '' AND FINALLY GET MY GIRLS A DECENT HOME. ALSO I HAD STUDENT LOANS THAT WERE EXPUNGED AND SHOULD SHOW THEY WERE SATISFIED AND PAID ON TIME.. PLEASE HELP ME AND MY GIRLS XXXX WILL BLESS YOU I AM SUREXXXX XXXX XXXXXXXXXXXX ON XXXX/XXXX/2015 I CALLED XXXX TO APPEAL TO THEM FOR HELP AND TO ASK WHY THEY POSTED THE COLLECTION BACK ON MY REPORTS THEIR ANSWER WAS. \" THE DEBT IS STILL OUTSTANDING AND THERE IS NOTHING WE CAN DO FOR YOU \". THEY OBVIOUSLY DO N'T CARE ABOUT ANYONE. ALL THEY WANT IS MONEY. IN MY OPINION THEY KNOW I AM TRYING TO GET A HOUSE AND THEY THINK I WILL PAY THE COLLECTION JUST TO GET RID OF IT. IT WILL BE A COLD DAY IN XXXX BEFORE I DO THAT. \\n                                                                                                                                                                                                                                                                                                                                                                                                                                                                                                                                                                                                                                                                                                                                                                                                                                                                                                                                                                                                                                                                                                                                                                                                                                                                                                                                                                                                                                                                                                                                                                                                                                                                                                                                                                                                                                                                                                                                                                 1\n",
       "I canceled my XXXX account in XXXX 2014 and just yesterday received a letter from Convergent Outsourcing located in XXXX, WA, saying that I owe {$130.00}. I contacted XXXX and they told me that they do n't have any record of me owing any money and my account balance is $ XXXX..I spoke with XXXX XXXX over at Convergent and she was extremely rude like I was inconveniencing her for asking questions and told me that she 'd send it back to XXXX as a dispute and when I asked how i 'd be informed about what 's going to happen, she said that I just would n't get anything else in the mail about it. \\n                                                                                                                                                                                                                                                                                                                                                                                                                                                                                                                                                                                                                                                                                                                                                                                                                                                                                                                                                                                                                                                                                                                                                                                                                                                                                                                                                                                                                                                                                                                                                                                                                                                                                                                                                                                                                                                                                                                                                                                                                                                                                                                                                                                                                                                                                                                                                                                                                                                                                                                                                                                                                                                                                                                                                                                                                                                                                                                                                                                                                                                                                                                                                                                                                                                                                                                                                                                                                                                                                      1\n",
       "Ten years ago I had a credit card and unfortunately my account was at {$10000.00}. Asset Acceptance now has control of my debt from this card. I have been paying through my work checks and have paid off {$2000.00} of the initial {$10000.00} owed. When I called XXXX XXXX, 2015 to settle this debt I was told that even though Asset Acceptance had my debt that they could not do anything and it was now with a law firm, XXXX and that they would have to take care of it. I received no resolution through Asset Acceptance, only sending me somewhere else. When I called XXXX, over ten times, I still did not receive a call back. Their voicemail stated that in order to get in contact with me I had to leave my social security number and I did not feel comfortable leaving something so secure on a voicemail. Finally after almost twenty attempts I was able to get ahold of XXXX XXXX, who bullied me to give him my name/social security number/phone number and then firmly stated he must have my address. I refused to give my address because I was advised that they do not need any information other than my name and social. He then bullied me into giving him my address by saying he would not work with me if I did not give him this information and that he will hang up and then to have a nice day so I gave in and gave him my information. He then told me that they had a different amount on file as payment received, about {$1000.00} less than what I had actually paid. XXXX then went on to tell me that if I wanted to settle then I would have to pay 83 % of my debit. The figure he gave me, over {$8000.00}, would be my settling payment. That settling payment with the amount I have already paid, {$2000.00} according to my previous employer that I have receipts of payment from, would total more than the actual {$10000.00} I initially owed. That means in order to settle I would be paying over 105 % of my debt to someone who told me I could ONLY settle for 83 %. This does not make sense. I asked if anything could be done, that I do not have that kind of money but could settle for less, and he refused everything and anything. I then expressed again that I did not have that kind of money and would have to file for bankruptcy and he said, \" That 's fine. Just make sure you contact us and send us notice. '' Again, no negotiation or compromise. Settling does not mean pay in full. This was debt from ten years ago. I then expressed that I would file a complaint to the CFPB and he did not care. After all attempts XXXX XXXX would still not help. Asset Acceptance can not do anything, which they are the ones who actually have my debt, and XXXX will not settle for anything less than 83 %. Please help! \\n                                                                                                                                                                                                                                                                                                                                                                                                                                                                                                                                                                                                                                                                                                                                                                                                                                                                                                                                                                                                                                                                                                                                                                                                                                                                                            1\n",
       "I filed against U.S. Bank refused refund {$900.00} for unfair and deceptive bonus practices. \\nI did visit at U.S. Bank today dated of XXXX XXXX, 2015. in addition, U.S. Bank employee did n't give me more power reward at see below descriptions : I filed against U.S. Bank refused refund {$900.00} for unfair and deceptive bonus practices at below : We 're glad you 've chosen to bank with us. Unfortunately, the checking account you 've selected is not eligible for a bonus. Valid accounts for the {$120.00} bonus offer include U.S. Bank Silver, Gold or Platinum Checking Packages. As a reminder, to earn the bonus you must also complete XXXX or more direct deposits totaling {$500.00} or more, OR XXXX or more transactions using U.S. Bank Bill Pay within 60 days. \\nI was not happy with U.S. Bank addresses: \\n                                                                                                                                                                                                                                                                                                                                                                                                                                                                                                                                                                                                                                                                                                                                                                                                                                                                                                                                                                                                                                                                                                                                                                                                                                                                                                                                                                                                                                                                                                                                                                                                                                                                                                                                                                                                                                                                                                                                                                                                                                                                                                                                                                                                                                                                                                                                                                                                                                                                                                                                                                                                                                                                                                                                                                                                                                                                                                                                                                                                                                                                                                                                                                                                                                                                  1\n",
       "Bank of America has demonstrated an on-going level of incompetence, callous disregard for the wellbeing of its customer and negligence in their responsibility to adequately guide a client through a loan process. Because of their unprofessional behavior we have suffered extraordinary emotional hardship and they have inflicted a financial burden on us not initially intended when we applied for the loan. \\n\\nOne of many issues is as follows. After going through an extraordinarily difficult mortgage finalization process I wrote to the president of Bank of America. Within a very short time I received calls from a corporate representative in XXXX, another representative in XXXX and a regional District Sales Manager. \\n\\nMy issue, at this point, is the way they have opted to getting around paying what they said they would pay me. In response to my complaint they agreed to cover the cost of the house appraisal and to honor their \" guaranteed close '' agreement. In a discussion with the District Sales Manager he stated that a reimbursement of travel costs due to their inadequate notification that our initial close date could not be met. We discussed the rates to be utilized to arrive at a figure and he said that actual receipts would not be needed. He asked if this approach would be acceptable. I told him to email all that we have talked about and I will review it with my wife. Here is what the representative from the corporate office wrote me soon after : \" XXXX XXXX, I spoke with XXXX and he asked me to pass along this information to you regarding your request for reimbursement. If you have any questions or need anything additional, please feel free to reach out to XXXX at XXXX. I have cc 'd him on this email as well. \\nRegarding Reimbursement : There were XXXX trips back and forth between XXXX and XXXX. The trip is approximately XXXX miles. This brings the total mileage to XXXX miles. At $ XXXX/mile that would bring the total mileage reimbursement to {$620.00}. \\nThe hotel room was {$87.00} a night for XXXX nights totaling a hotel reimbursement in the amount of {$170.00}. Per diem for food is $ XXXX/day/person. For XXXX people over a 4 day period that brings the total food reimbursement to {$600.00}. \\nThis brings the total reimbursement to just under {$1400.00}. \\nWe have already agreed to refund your appraisal fee in the amount of {$460.00}, which is currently in process. You are also going to be receiving your Close On Time Commitment Payout in the amount of {$500.00}. This brings the total reimbursement that is already in process to {$960.00}. In order to bring us to the {$1400.00} total, we will be issuing you a check in the amount of {$440.00} to cover the difference. \\n{$620.00} ( mileage ) + {$170.00} ( lodging ) + {$600.00} ( food cost ) = {$1300.00} ( Rounded up to {$1400.00} ) {$1400.00} ( agreed reimbursement ) - {$460.00} ( appraisal refund in process ) - {$500.00} ( COTC in process ) = {$440.00} We will issue this check to the new address. Can you please confirm this is where you would like to have this mailed? \\nThank you very much and have a nice weekend! \\nSincerely, Consumer Lending Client Experience '' As you can see they created a final reimbursement figure by taking one issue, the travel reimbursement and then subtracting the \" in-process '' reimbursements. My strong contention is that there are three separate and distinct issues to be reimbursed. The three issues would total {$2300.00}. By doing a subtraction of two previous reimbursements for different issues they have substantially reduced their total payout. I find such an action to be cheap, insulting and a truly unprofessional way to address the needs of an aggrieved party to a horrific mortgage loan process as reviewed in my letter to the president ( attached ). A financial institution with the reach and impact that Bank of America has must be held to a higher standard and account for its actions. \\n     1\n",
       "Name: narrative, Length: 65646, dtype: int64"
      ]
     },
     "execution_count": 34,
     "metadata": {},
     "output_type": "execute_result"
    }
   ],
   "source": [
    "df.narrative.count()/len(df.narrative)\n",
    "#only about a 12% narrative rate... let's see some of them\n",
    "\n",
    "df.narrative.value_counts()\n",
    "#Whoa... these are angry. Maybe some VADER analysis later? NLTK?"
   ]
  },
  {
   "cell_type": "code",
   "execution_count": 19,
   "id": "86412f3c",
   "metadata": {},
   "outputs": [
    {
     "name": "stdout",
     "output_type": "stream",
     "text": [
      "18\n",
      "18\n"
     ]
    }
   ],
   "source": [
    "#see if any columns are empty\n",
    "print(len(df.columns))\n",
    "df=df.dropna(axis=0,how=\"all\")\n",
    "print(len(df.columns))\n"
   ]
  },
  {
   "cell_type": "markdown",
   "id": "8d3d9fe1",
   "metadata": {},
   "source": [
    "## Exploratory Data Analysis"
   ]
  },
  {
   "cell_type": "code",
   "execution_count": 4,
   "id": "2a47fe6e",
   "metadata": {},
   "outputs": [
    {
     "data": {
      "text/plain": [
       "<AxesSubplot:>"
      ]
     },
     "execution_count": 4,
     "metadata": {},
     "output_type": "execute_result"
    },
    {
     "data": {
      "image/png": "[encoded data removed]",
      "text/plain": [
       "<Figure size 432x288 with 1 Axes>"
      ]
     },
     "metadata": {
      "needs_background": "light"
     },
     "output_type": "display_data"
    }
   ],
   "source": [
    "df[\"product\"].value_counts().plot(kind=\"barh\")"
   ]
  },
  {
   "cell_type": "code",
   "execution_count": 5,
   "id": "e9cd88e3",
   "metadata": {},
   "outputs": [
    {
     "data": {
      "text/plain": [
       "<AxesSubplot:>"
      ]
     },
     "execution_count": 5,
     "metadata": {},
     "output_type": "execute_result"
    },
    {
     "data": {
      "image/png": "[encoded data removed]",
      "text/plain": [
       "<Figure size 432x288 with 1 Axes>"
      ]
     },
     "metadata": {
      "needs_background": "light"
     },
     "output_type": "display_data"
    }
   ],
   "source": [
    "df[\"state\"].value_counts()[0:10].plot(kind=\"barh\")"
   ]
  },
  {
   "cell_type": "code",
   "execution_count": 13,
   "id": "8ca40d72",
   "metadata": {},
   "outputs": [
    {
     "data": {
      "text/plain": [
       "True"
      ]
     },
     "execution_count": 13,
     "metadata": {},
     "output_type": "execute_result"
    }
   ],
   "source": []
  },
  {
   "cell_type": "code",
   "execution_count": null,
   "id": "89cfb391",
   "metadata": {},
   "outputs": [],
   "source": []
  }
 ],
 "metadata": {
  "kernelspec": {
   "display_name": "SummerEnv",
   "language": "python",
   "name": "summerenv"
  },
  "language_info": {
   "codemirror_mode": {
    "name": "ipython",
    "version": 3
   },
   "file_extension": ".py",
   "mimetype": "text/x-python",
   "name": "python",
   "nbconvert_exporter": "python",
   "pygments_lexer": "ipython3",
   "version": "3.8.13"
  }
 },
 "nbformat": 4,
 "nbformat_minor": 5
}
